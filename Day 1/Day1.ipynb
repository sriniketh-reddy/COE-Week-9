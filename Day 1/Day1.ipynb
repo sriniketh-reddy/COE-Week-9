{
 "cells": [
  {
   "cell_type": "code",
   "execution_count": 33,
   "id": "2eaf015c-d2ec-4216-9a70-4d2db3dd4fa8",
   "metadata": {},
   "outputs": [],
   "source": [
    "import numpy as np\n",
    "\n",
    "class LinearRegressionModel:\n",
    "    def fit(self,X,Y):\n",
    "        self.X = X\n",
    "        self.Y = Y\n",
    "        self.X_mean = np.mean(X)\n",
    "        self.Y_mean = np.mean(Y)\n",
    "        \n",
    "        slope = np.sum((self.X-self.X_mean)*(self.Y-self.Y_mean))/np.sum((self.X-self.X_mean)**2)\n",
    "        self.coef_ = np.array([slope])\n",
    "        self.intercept_ = self.X_mean * slope - self.Y_mean\n",
    "\n",
    "    def predict(self,X):\n",
    "        return X * self.coef_[0] + self.intercept_\n",
    "        "
   ]
  },
  {
   "cell_type": "code",
   "execution_count": 41,
   "id": "2e6c221f-5665-4272-a329-940bdf0e0992",
   "metadata": {},
   "outputs": [
    {
     "data": {
      "text/plain": [
       "0.999401090464697"
      ]
     },
     "execution_count": 41,
     "metadata": {},
     "output_type": "execute_result"
    }
   ],
   "source": [
    "from sklearn.model_selection import train_test_split\n",
    "from sklearn.metrics import r2_score\n",
    "\n",
    "\n",
    "X = np.random.rand(500)*100 // 1\n",
    "Y = 1.5 * X + np.random.rand(500)\n",
    "\n",
    "X_train, X_test, Y_train, Y_test = train_test_split(X,Y,test_size = 0.2,random_state = 30)\n",
    "\n",
    "model = LinearRegressionModel()\n",
    "model.fit(X_train,Y_train)\n",
    "\n",
    "Y_pred = model.predict(X_test)\n",
    "r2_score(Y_pred,Y_test)"
   ]
  },
  {
   "cell_type": "code",
   "execution_count": null,
   "id": "1c63d347-421d-457e-a988-351c1e945ecb",
   "metadata": {},
   "outputs": [],
   "source": []
  }
 ],
 "metadata": {
  "kernelspec": {
   "display_name": "Python 3 (ipykernel)",
   "language": "python",
   "name": "python3"
  },
  "language_info": {
   "codemirror_mode": {
    "name": "ipython",
    "version": 3
   },
   "file_extension": ".py",
   "mimetype": "text/x-python",
   "name": "python",
   "nbconvert_exporter": "python",
   "pygments_lexer": "ipython3",
   "version": "3.12.8"
  }
 },
 "nbformat": 4,
 "nbformat_minor": 5
}
